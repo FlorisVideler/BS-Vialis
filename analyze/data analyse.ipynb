{
 "cells": [
  {
   "cell_type": "code",
   "execution_count": 25,
   "id": "configured-action",
   "metadata": {},
   "outputs": [],
   "source": [
    "import pandas as pd\n",
    "import seaborn as sns"
   ]
  },
  {
   "cell_type": "code",
   "execution_count": 41,
   "id": "portable-object",
   "metadata": {},
   "outputs": [],
   "source": [
    "df = pd.read_csv('export.csv')\n",
    "df.rename(columns={'Unnamed: 0': \"step\"}, inplace=True)"
   ]
  },
  {
   "cell_type": "code",
   "execution_count": 42,
   "id": "finite-flooring",
   "metadata": {},
   "outputs": [],
   "source": [
    "df0 = df[(df['light_11'] == 0)] \n",
    "df10 = df[(df['light_11'] == 10)]\n",
    "df20 = df[(df['light_11'] == 20)] "
   ]
  },
  {
   "cell_type": "code",
   "execution_count": 43,
   "id": "indoor-speech",
   "metadata": {},
   "outputs": [
    {
     "data": {
      "text/html": [
       "<div>\n",
       "<style scoped>\n",
       "    .dataframe tbody tr th:only-of-type {\n",
       "        vertical-align: middle;\n",
       "    }\n",
       "\n",
       "    .dataframe tbody tr th {\n",
       "        vertical-align: top;\n",
       "    }\n",
       "\n",
       "    .dataframe thead th {\n",
       "        text-align: right;\n",
       "    }\n",
       "</style>\n",
       "<table border=\"1\" class=\"dataframe\">\n",
       "  <thead>\n",
       "    <tr style=\"text-align: right;\">\n",
       "      <th></th>\n",
       "      <th>step</th>\n",
       "      <th>avg_car_steps</th>\n",
       "      <th>avg_car_wait</th>\n",
       "      <th>light_11</th>\n",
       "      <th>light_12</th>\n",
       "      <th>light_01</th>\n",
       "      <th>light_03</th>\n",
       "      <th>light_04</th>\n",
       "      <th>light_05</th>\n",
       "      <th>light_41</th>\n",
       "    </tr>\n",
       "  </thead>\n",
       "  <tbody>\n",
       "    <tr>\n",
       "      <th>144000</th>\n",
       "      <td>144000</td>\n",
       "      <td>448.286352</td>\n",
       "      <td>39.470807</td>\n",
       "      <td>20</td>\n",
       "      <td>20</td>\n",
       "      <td>20</td>\n",
       "      <td>20</td>\n",
       "      <td>20</td>\n",
       "      <td>20</td>\n",
       "      <td>0</td>\n",
       "    </tr>\n",
       "    <tr>\n",
       "      <th>144001</th>\n",
       "      <td>144001</td>\n",
       "      <td>448.286352</td>\n",
       "      <td>39.470807</td>\n",
       "      <td>20</td>\n",
       "      <td>20</td>\n",
       "      <td>20</td>\n",
       "      <td>20</td>\n",
       "      <td>20</td>\n",
       "      <td>20</td>\n",
       "      <td>0</td>\n",
       "    </tr>\n",
       "    <tr>\n",
       "      <th>144002</th>\n",
       "      <td>144002</td>\n",
       "      <td>448.286352</td>\n",
       "      <td>39.470807</td>\n",
       "      <td>20</td>\n",
       "      <td>20</td>\n",
       "      <td>20</td>\n",
       "      <td>20</td>\n",
       "      <td>20</td>\n",
       "      <td>20</td>\n",
       "      <td>0</td>\n",
       "    </tr>\n",
       "    <tr>\n",
       "      <th>144003</th>\n",
       "      <td>144003</td>\n",
       "      <td>448.286352</td>\n",
       "      <td>39.470807</td>\n",
       "      <td>20</td>\n",
       "      <td>20</td>\n",
       "      <td>20</td>\n",
       "      <td>20</td>\n",
       "      <td>20</td>\n",
       "      <td>20</td>\n",
       "      <td>0</td>\n",
       "    </tr>\n",
       "    <tr>\n",
       "      <th>144004</th>\n",
       "      <td>144004</td>\n",
       "      <td>448.286352</td>\n",
       "      <td>39.470807</td>\n",
       "      <td>20</td>\n",
       "      <td>20</td>\n",
       "      <td>20</td>\n",
       "      <td>20</td>\n",
       "      <td>20</td>\n",
       "      <td>20</td>\n",
       "      <td>0</td>\n",
       "    </tr>\n",
       "    <tr>\n",
       "      <th>...</th>\n",
       "      <td>...</td>\n",
       "      <td>...</td>\n",
       "      <td>...</td>\n",
       "      <td>...</td>\n",
       "      <td>...</td>\n",
       "      <td>...</td>\n",
       "      <td>...</td>\n",
       "      <td>...</td>\n",
       "      <td>...</td>\n",
       "      <td>...</td>\n",
       "    </tr>\n",
       "    <tr>\n",
       "      <th>647995</th>\n",
       "      <td>647995</td>\n",
       "      <td>949.899952</td>\n",
       "      <td>38.456594</td>\n",
       "      <td>20</td>\n",
       "      <td>20</td>\n",
       "      <td>20</td>\n",
       "      <td>20</td>\n",
       "      <td>20</td>\n",
       "      <td>20</td>\n",
       "      <td>0</td>\n",
       "    </tr>\n",
       "    <tr>\n",
       "      <th>647996</th>\n",
       "      <td>647996</td>\n",
       "      <td>949.899952</td>\n",
       "      <td>38.456594</td>\n",
       "      <td>20</td>\n",
       "      <td>20</td>\n",
       "      <td>20</td>\n",
       "      <td>20</td>\n",
       "      <td>20</td>\n",
       "      <td>20</td>\n",
       "      <td>0</td>\n",
       "    </tr>\n",
       "    <tr>\n",
       "      <th>647997</th>\n",
       "      <td>647997</td>\n",
       "      <td>949.899952</td>\n",
       "      <td>38.456594</td>\n",
       "      <td>20</td>\n",
       "      <td>20</td>\n",
       "      <td>20</td>\n",
       "      <td>20</td>\n",
       "      <td>20</td>\n",
       "      <td>20</td>\n",
       "      <td>0</td>\n",
       "    </tr>\n",
       "    <tr>\n",
       "      <th>647998</th>\n",
       "      <td>647998</td>\n",
       "      <td>949.899952</td>\n",
       "      <td>38.456594</td>\n",
       "      <td>20</td>\n",
       "      <td>20</td>\n",
       "      <td>20</td>\n",
       "      <td>20</td>\n",
       "      <td>20</td>\n",
       "      <td>20</td>\n",
       "      <td>0</td>\n",
       "    </tr>\n",
       "    <tr>\n",
       "      <th>647999</th>\n",
       "      <td>647999</td>\n",
       "      <td>949.899952</td>\n",
       "      <td>38.456594</td>\n",
       "      <td>20</td>\n",
       "      <td>20</td>\n",
       "      <td>20</td>\n",
       "      <td>20</td>\n",
       "      <td>20</td>\n",
       "      <td>20</td>\n",
       "      <td>0</td>\n",
       "    </tr>\n",
       "  </tbody>\n",
       "</table>\n",
       "<p>216000 rows × 10 columns</p>\n",
       "</div>"
      ],
      "text/plain": [
       "          step  avg_car_steps  avg_car_wait  light_11  light_12  light_01  \\\n",
       "144000  144000     448.286352     39.470807        20        20        20   \n",
       "144001  144001     448.286352     39.470807        20        20        20   \n",
       "144002  144002     448.286352     39.470807        20        20        20   \n",
       "144003  144003     448.286352     39.470807        20        20        20   \n",
       "144004  144004     448.286352     39.470807        20        20        20   \n",
       "...        ...            ...           ...       ...       ...       ...   \n",
       "647995  647995     949.899952     38.456594        20        20        20   \n",
       "647996  647996     949.899952     38.456594        20        20        20   \n",
       "647997  647997     949.899952     38.456594        20        20        20   \n",
       "647998  647998     949.899952     38.456594        20        20        20   \n",
       "647999  647999     949.899952     38.456594        20        20        20   \n",
       "\n",
       "        light_03  light_04  light_05  light_41  \n",
       "144000        20        20        20         0  \n",
       "144001        20        20        20         0  \n",
       "144002        20        20        20         0  \n",
       "144003        20        20        20         0  \n",
       "144004        20        20        20         0  \n",
       "...          ...       ...       ...       ...  \n",
       "647995        20        20        20         0  \n",
       "647996        20        20        20         0  \n",
       "647997        20        20        20         0  \n",
       "647998        20        20        20         0  \n",
       "647999        20        20        20         0  \n",
       "\n",
       "[216000 rows x 10 columns]"
      ]
     },
     "execution_count": 43,
     "metadata": {},
     "output_type": "execute_result"
    }
   ],
   "source": [
    "df20"
   ]
  },
  {
   "cell_type": "code",
   "execution_count": 44,
   "id": "otherwise-respondent",
   "metadata": {},
   "outputs": [
    {
     "data": {
      "text/plain": [
       "<AxesSubplot:xlabel='step', ylabel='avg_car_steps'>"
      ]
     },
     "execution_count": 44,
     "metadata": {},
     "output_type": "execute_result"
    },
    {
     "data": {
      "image/png": "[encoded data removed]",
      "text/plain": [
       "<Figure size 432x288 with 1 Axes>"
      ]
     },
     "metadata": {
      "needs_background": "light"
     },
     "output_type": "display_data"
    }
   ],
   "source": [
    "sns.lineplot(data=df, x='step', y='avg_car_steps', hue='light_11')"
   ]
  },
  {
   "cell_type": "code",
   "execution_count": 45,
   "id": "appointed-amateur",
   "metadata": {},
   "outputs": [
    {
     "data": {
      "text/plain": [
       "<AxesSubplot:xlabel='step', ylabel='avg_car_wait'>"
      ]
     },
     "execution_count": 45,
     "metadata": {},
     "output_type": "execute_result"
    },
    {
     "data": {
      "image/png": "[encoded data removed]",
      "text/plain": [
       "<Figure size 432x288 with 1 Axes>"
      ]
     },
     "metadata": {
      "needs_background": "light"
     },
     "output_type": "display_data"
    }
   ],
   "source": [
    "sns.lineplot(data=df, x='step', y='avg_car_wait', hue='light_11')"
   ]
  },
  {
   "cell_type": "code",
   "execution_count": 49,
   "id": "weekly-mystery",
   "metadata": {},
   "outputs": [
    {
     "data": {
      "text/plain": [
       "<AxesSubplot:xlabel='light_11', ylabel='avg_car_wait'>"
      ]
     },
     "execution_count": 49,
     "metadata": {},
     "output_type": "execute_result"
    },
    {
     "data": {
      "image/png": "[encoded data removed]",
      "text/plain": [
       "<Figure size 432x288 with 1 Axes>"
      ]
     },
     "metadata": {},
     "output_type": "display_data"
    }
   ],
   "source": [
    "sns.barplot(x=\"light_11\", y=\"avg_car_wait\", data=df)"
   ]
  },
  {
   "cell_type": "code",
   "execution_count": 50,
   "id": "operational-filling",
   "metadata": {},
   "outputs": [
    {
     "data": {
      "text/plain": [
       "<AxesSubplot:xlabel='light_11', ylabel='avg_car_steps'>"
      ]
     },
     "execution_count": 50,
     "metadata": {},
     "output_type": "execute_result"
    },
    {
     "data": {
      "image/png": "[encoded data removed]",
      "text/plain": [
       "<Figure size 432x288 with 1 Axes>"
      ]
     },
     "metadata": {},
     "output_type": "display_data"
    }
   ],
   "source": [
    "sns.barplot(x=\"light_11\", y=\"avg_car_steps\", data=df)"
   ]
  },
  {
   "cell_type": "code",
   "execution_count": null,
   "id": "driving-drinking",
   "metadata": {},
   "outputs": [],
   "source": []
  }
 ],
 "metadata": {
  "kernelspec": {
   "display_name": "Python 3",
   "language": "python",
   "name": "python3"
  },
  "language_info": {
   "codemirror_mode": {
    "name": "ipython",
    "version": 3
   },
   "file_extension": ".py",
   "mimetype": "text/x-python",
   "name": "python",
   "nbconvert_exporter": "python",
   "pygments_lexer": "ipython3",
   "version": "3.8.7"
  }
 },
 "nbformat": 4,
 "nbformat_minor": 5
}
