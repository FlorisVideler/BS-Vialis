{
 "cells": [
  {
   "cell_type": "code",
   "execution_count": 1,
   "metadata": {},
   "outputs": [],
   "source": [
    "import sys"
   ]
  },
  {
   "cell_type": "code",
   "execution_count": 2,
   "metadata": {},
   "outputs": [],
   "source": [
    "sys.path.append('../')"
   ]
  },
  {
   "cell_type": "code",
   "execution_count": 3,
   "metadata": {
    "scrolled": false
   },
   "outputs": [
    {
     "name": "stderr",
     "output_type": "stream",
     "text": [
      "C:\\ProgramData\\Anaconda3\\lib\\site-packages\\IPython\\core\\interactiveshell.py:3338: DtypeWarning: Columns (1,2,3,4,5,7,8,9,10,11,12,13,14,15,16,17,18,19,20,21,22,23,24,25,26,27,28,29,30,31,32,33,34,36,37,39,40,41,42,43,44,45,46,47,48,49,50,51,52,53,54,55) have mixed types.Specify dtype option on import or set low_memory=False.\n",
      "  if (await self.run_code(code, result,  async_=asy)):\n"
     ]
    }
   ],
   "source": [
    "from traffic_model.simulation.model import *\n",
    "from mesa.batchrunner import BatchRunner"
   ]
  },
  {
   "cell_type": "code",
   "execution_count": null,
   "metadata": {},
   "outputs": [],
   "source": [
    "max_steps = 72000\n",
    "start_steps = [252000, 468000, 576000]\n",
    "dfs = []\n",
    "index = 0\n",
    "for start_step in start_steps:\n",
    "    for light_timing in range(0, 21, 10):\n",
    "        model = Traffic(light_11=light_timing,\n",
    "                        light_12=light_timing,\n",
    "                        light_01=light_timing,\n",
    "                        light_03=light_timing,\n",
    "                        light_41=0,\n",
    "                        light_04=light_timing,\n",
    "                        light_05=light_timing,\n",
    "                        width=750,\n",
    "                        height=750,\n",
    "                        max_steps=max_steps,\n",
    "                        start=start_step)\n",
    "        for i in range(max_steps):\n",
    "            model.step()\n",
    "        index+=1\n",
    "        print(index)\n",
    "        df = model.datacollector.get_model_vars_dataframe()\n",
    "        df['light_11'] = light_timing\n",
    "        df['light_12'] = light_timing\n",
    "        df['light_01'] = light_timing\n",
    "        df['light_03'] = light_timing\n",
    "        df['light_04'] = light_timing\n",
    "        df['light_05'] = light_timing\n",
    "        df['light_41'] = 0\n",
    "        dfs.append(df)"
   ]
  },
  {
   "cell_type": "code",
   "execution_count": null,
   "metadata": {},
   "outputs": [],
   "source": [
    "df = pd.concat(dfs).reset_index().drop(columns=['index'])"
   ]
  },
  {
   "cell_type": "code",
   "execution_count": null,
   "metadata": {},
   "outputs": [],
   "source": [
    "df.to_csv('export.csv')"
   ]
  },
  {
   "cell_type": "code",
   "execution_count": null,
   "metadata": {},
   "outputs": [],
   "source": []
  }
 ],
 "metadata": {
  "kernelspec": {
   "display_name": "Python 3",
   "language": "python",
   "name": "python3"
  },
  "language_info": {
   "codemirror_mode": {
    "name": "ipython",
    "version": 3
   },
   "file_extension": ".py",
   "mimetype": "text/x-python",
   "name": "python",
   "nbconvert_exporter": "python",
   "pygments_lexer": "ipython3",
   "version": "3.8.5"
  }
 },
 "nbformat": 4,
 "nbformat_minor": 4
}
